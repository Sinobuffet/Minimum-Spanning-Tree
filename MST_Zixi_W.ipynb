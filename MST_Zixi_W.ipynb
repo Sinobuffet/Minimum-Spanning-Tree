{
 "cells": [
  {
   "cell_type": "code",
   "execution_count": 2,
   "id": "cb5bdc59",
   "metadata": {},
   "outputs": [],
   "source": [
    "import numpy as np"
   ]
  },
  {
   "cell_type": "code",
   "execution_count": 3,
   "id": "46f7e69f",
   "metadata": {},
   "outputs": [],
   "source": [
    "adj = np.loadtxt(\"graph.txt\",delimiter=',')\n",
    "np.place(adj,adj == 0,float('inf'))\n",
    "#np.fill_diagonal(adj, 0)"
   ]
  },
  {
   "cell_type": "code",
   "execution_count": 4,
   "id": "a4c25693",
   "metadata": {},
   "outputs": [
    {
     "name": "stdout",
     "output_type": "stream",
     "text": [
      "[[2, 3, 12.0], [2, 4, 21.0], [0, 2, 22.0], [1, 2, 23.0]]\n",
      "[[inf 33. 22. 55. 44.]\n",
      " [33. inf 23. 46. 59.]\n",
      " [22. 23. inf 12. 21.]\n",
      " [55. 46. 12. inf 30.]\n",
      " [44. 59. 21. 30. inf]]\n"
     ]
    }
   ],
   "source": [
    "def edge(adj):\n",
    "    a = 0\n",
    "    for i in range(len(adj)):\n",
    "        for j in range(i):\n",
    "            if adj[i][j] > 0 and adj[i][j] < 9999:\n",
    "                    a += 1\n",
    "    return a\n",
    "\n",
    "def kruskal(adj,node,edge):\n",
    "    list = []\n",
    "    if node <= 0 or edge < node - 1:\n",
    "        return list\n",
    "\n",
    "    edge_list = []\n",
    "    for i in range(node):\n",
    "        for j in range(i, node):\n",
    "            if adj[i][j] < 9999:\n",
    "                edge_list.append([i, j, adj[i][j]])\n",
    "    edge_list.sort(key=lambda a: a[2])  \n",
    "    group = [[i] for i in range(node)]\n",
    "    for edge in edge_list:\n",
    "        for i in range(len(group)):\n",
    "            if edge[0] in group[i]:\n",
    "                m = i\n",
    "            if edge[1] in group[i]:\n",
    "                n = i\n",
    "        if m != n:\n",
    "            list.append(edge)\n",
    "            group[m] = group[m] + group[n]\n",
    "            group[n] = []\n",
    "    return list\n",
    "\n",
    "print(kruskal(adj,len(adj),edge(adj)))\n",
    "print(adj)"
   ]
  },
  {
   "cell_type": "code",
   "execution_count": 9,
   "id": "0764f6d9",
   "metadata": {},
   "outputs": [
    {
     "name": "stdout",
     "output_type": "stream",
     "text": [
      "[[2, 3, 12.0], [2, 4, 21.0], [0, 2, 22.0], [1, 2, 23.0]]\n",
      "[[inf 33. 22. 55. 44.]\n",
      " [33. inf 23. 46. 59.]\n",
      " [22. 23. inf 12. 21.]\n",
      " [55. 46. 12. inf 30.]\n",
      " [44. 59. 21. 30. inf]]\n"
     ]
    }
   ],
   "source": [
    "def edge(adj):\n",
    "    a = 0\n",
    "    for i in range(len(adj)):\n",
    "        for j in range(i):\n",
    "            if adj[i][j] > 0 and adj[i][j] < 9999:\n",
    "                    a += 1\n",
    "    return a\n",
    "\n",
    "def kruskal(adj,node,edge):\n",
    "    list = []\n",
    "    if node <= 0 or edge < node - 1:\n",
    "        return list\n",
    "\n",
    "    edge_list = []\n",
    "    for i in range(node):\n",
    "        for j in range(i, node):\n",
    "            if adj[i][j] < 9999:\n",
    "                edge_list.append([i, j, adj[i][j]])\n",
    "    edge_list.sort(key=lambda a: a[2])  \n",
    "    group = [[i] for i in range(node)]\n",
    "    for edge in edge_list:\n",
    "        for i in range(len(group)):\n",
    "            if edge[0] in group[i]:\n",
    "                m = i\n",
    "            if edge[1] in group[i]:\n",
    "                n = i\n",
    "        if m != n:\n",
    "            list.append(edge)\n",
    "            group[m] = group[m] + group[n]\n",
    "            group[n] = []\n",
    "    return list\n",
    "\n",
    "print(kruskal(adj,len(adj),edge(adj)))\n",
    "print(adj)"
   ]
  },
  {
   "cell_type": "code",
   "execution_count": null,
   "id": "4195743e",
   "metadata": {},
   "outputs": [],
   "source": []
  }
 ],
 "metadata": {
  "kernelspec": {
   "display_name": "Python 3",
   "language": "python",
   "name": "python3"
  },
  "language_info": {
   "codemirror_mode": {
    "name": "ipython",
    "version": 3
   },
   "file_extension": ".py",
   "mimetype": "text/x-python",
   "name": "python",
   "nbconvert_exporter": "python",
   "pygments_lexer": "ipython3",
   "version": "3.8.8"
  }
 },
 "nbformat": 4,
 "nbformat_minor": 5
}
